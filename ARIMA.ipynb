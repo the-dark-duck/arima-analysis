{
 "cells": [
  {
   "cell_type": "code",
   "execution_count": 2,
   "metadata": {},
   "outputs": [],
   "source": [
    "import numpy as np\n",
    "import pandas as pd\n",
    "import warnings\n",
    "warnings.filterwarnings('ignore')\n",
    "from pandas import datetime\n",
    "from statsmodels.tsa.arima_model import ARIMA\n",
    "from sklearn.metrics import mean_squared_error\n",
    "from sklearn.metrics import mean_absolute_error\n",
    "from pandas import read_csv\n",
    "from pandas import datetime\n",
    "from statsmodels.tsa.arima_model import ARIMA\n",
    "from sklearn.metrics import mean_squared_error\n",
    "from statsmodels.graphics.tsaplots import plot_acf\n",
    "from statsmodels.graphics.tsaplots import plot_pacf\n",
    "from matplotlib import pyplot"
   ]
  },
  {
   "cell_type": "markdown",
   "metadata": {},
   "source": [
    "### Define error term "
   ]
  },
  {
   "cell_type": "code",
   "execution_count": 3,
   "metadata": {},
   "outputs": [],
   "source": [
    "\n",
    "# from sklearn.utils import check_arrays\n",
    "def mean_absolute_percentage_error(y_true, y_pred): \n",
    "    return np.mean(np.abs((y_true - y_pred) / y_true)) * 100\n",
    "  "
   ]
  },
  {
   "cell_type": "markdown",
   "metadata": {},
   "source": [
    "### Run it for two numpy arrays (of the same size)"
   ]
  },
  {
   "cell_type": "code",
   "execution_count": 4,
   "metadata": {},
   "outputs": [
    {
     "data": {
      "text/plain": [
       "200.7208298389024"
      ]
     },
     "execution_count": 4,
     "metadata": {},
     "output_type": "execute_result"
    }
   ],
   "source": [
    "a = np.random.rand(5)\n",
    "b = np.random.rand(5)\n",
    "\n",
    "mean_absolute_percentage_error(a,b)"
   ]
  },
  {
   "cell_type": "markdown",
   "metadata": {},
   "source": [
    "## ARIMA model function that forecasts variable values for a given ARIMA order"
   ]
  },
  {
   "cell_type": "code",
   "execution_count": 5,
   "metadata": {},
   "outputs": [],
   "source": [
    "\n",
    " # evaluate an ARIMA model for a given order (p,d,q)\n",
    "def evaluate_arima_model(X, arima_order):\n",
    "   # prepare training dataset\n",
    "   train_size = int(len(X) - 7)\n",
    "   train, test = X[0:train_size], X[train_size:]\n",
    "   history = [x for x in train]\n",
    "   # make predictions\n",
    "   predictions = list()\n",
    "   for t in range(len(test)):\n",
    "      model = ARIMA(history, order=arima_order)\n",
    "      model_fit = model.fit(disp=0)\n",
    "      yhat = model_fit.forecast()[0]\n",
    "      predictions.append(yhat)\n",
    "      obs = test[t]\n",
    "      history.append(test[t])\n",
    "      print('predicted=%f, expected=%f' % (yhat, obs))\n",
    "   # calculate out of sample error\n",
    "   #test = np.array(test)\n",
    "   #predictions = np.array(predictions)\n",
    "   error = mean_absolute_percentage_error(test, predictions)\n",
    "   #error = error.item()\n",
    "   return error"
   ]
  },
  {
   "cell_type": "code",
   "execution_count": 6,
   "metadata": {},
   "outputs": [
    {
     "name": "stdout",
     "output_type": "stream",
     "text": [
      "predicted=0.504499, expected=0.585275\n",
      "predicted=0.505868, expected=0.562580\n",
      "predicted=0.506516, expected=0.687054\n",
      "predicted=0.508570, expected=0.560783\n",
      "predicted=0.509057, expected=0.661181\n",
      "predicted=0.510957, expected=0.522388\n",
      "predicted=0.510657, expected=0.266965\n"
     ]
    },
    {
     "data": {
      "text/plain": [
       "24.939492710664453"
      ]
     },
     "execution_count": 6,
     "metadata": {},
     "output_type": "execute_result"
    }
   ],
   "source": [
    "c = np.random.rand(100)\n",
    "evaluate_arima_model(c, (1,0,0))"
   ]
  },
  {
   "cell_type": "markdown",
   "metadata": {},
   "source": [
    "### Function to run above model for all values of p,d,q and return the best suited order according to least MAPE"
   ]
  },
  {
   "cell_type": "code",
   "execution_count": 7,
   "metadata": {},
   "outputs": [],
   "source": [
    "\n",
    "# evaluate combinations of p, d and q values for an ARIMA model\n",
    "def evaluate_models_test(X):\n",
    "\tp_values = [0, 5]\n",
    "\td_values = range(0, 2)\n",
    "\tq_values = range(0, 5)\n",
    "\tdataset = X.astype('float32')\n",
    "\tbest_score, best_cfg = float(\"inf\"), 0\n",
    "\tfor p in p_values:\n",
    "\t\tfor d in d_values:\n",
    "\t\t\tfor q in q_values:\n",
    "\t\t\t\torder = (p,d,q)\n",
    "\t\t\t\ttry:\n",
    "\t\t\t\t\tmape = evaluate_arima_model(dataset, order)\n",
    "\t\t\t\t\tif mape < best_score:\n",
    "\t\t\t\t\t\tbest_score, best_cfg = mape, order\n",
    "\t\t\t\t\tprint('ARIMA%s MAPE=%.3f' % (order,mape))\n",
    "\t\t\t\texcept:\n",
    "\t\t\t\t\tcontinue\n",
    "\treturn best_cfg"
   ]
  },
  {
   "cell_type": "code",
   "execution_count": 8,
   "metadata": {},
   "outputs": [
    {
     "name": "stdout",
     "output_type": "stream",
     "text": [
      "predicted=0.493272, expected=0.747969\n",
      "predicted=0.495981, expected=0.116326\n",
      "predicted=0.491985, expected=0.228638\n",
      "predicted=0.489242, expected=0.594103\n",
      "predicted=0.490323, expected=0.175535\n",
      "predicted=0.487111, expected=0.510522\n",
      "predicted=0.487347, expected=0.645939\n",
      "ARIMA(0, 0, 0) MAPE=99.396\n",
      "predicted=0.437330, expected=0.747969\n",
      "predicted=0.471343, expected=0.116326"
     ]
    },
    {
     "name": "stderr",
     "output_type": "stream",
     "text": [
      "c:\\users\\surabhi\\env3\\lib\\site-packages\\statsmodels\\base\\model.py:512: ConvergenceWarning: Maximum Likelihood optimization failed to converge. Check mle_retvals\n",
      "  \"Check mle_retvals\", ConvergenceWarning)\n"
     ]
    },
    {
     "name": "stdout",
     "output_type": "stream",
     "text": [
      "\n",
      "predicted=0.526290, expected=0.228638\n",
      "predicted=0.514265, expected=0.594103\n",
      "predicted=0.483025, expected=0.175535\n",
      "predicted=0.515086, expected=0.510522\n",
      "predicted=0.487513, expected=0.645939\n",
      "ARIMA(0, 0, 1) MAPE=99.579\n",
      "predicted=0.426429, expected=0.747969\n",
      "predicted=0.466522, expected=0.116326\n",
      "predicted=0.513254, expected=0.228638\n",
      "predicted=0.529618, expected=0.594103\n",
      "predicted=0.498238, expected=0.175535\n",
      "predicted=0.513915, expected=0.510522\n",
      "predicted=0.499752, expected=0.645939\n",
      "ARIMA(0, 0, 2) MAPE=99.907\n",
      "predicted=0.418764, expected=0.747969\n",
      "predicted=0.435697, expected=0.116326\n",
      "predicted=0.458305, expected=0.228638\n",
      "predicted=0.486058, expected=0.594103\n",
      "predicted=0.524593, expected=0.175535\n",
      "predicted=0.536054, expected=0.510522\n",
      "predicted=0.499343, expected=0.645939\n",
      "ARIMA(0, 0, 3) MAPE=97.819\n",
      "predicted=0.414993, expected=0.747969\n",
      "predicted=0.439346, expected=0.116326\n",
      "predicted=0.457868, expected=0.228638\n",
      "predicted=0.477206, expected=0.594103\n",
      "predicted=0.519577, expected=0.175535\n",
      "predicted=0.543119, expected=0.510522\n",
      "predicted=0.508667, expected=0.645939\n",
      "ARIMA(0, 0, 4) MAPE=97.884\n",
      "predicted=0.972320, expected=0.747969\n",
      "predicted=0.747883, expected=0.116326\n",
      "predicted=0.109521, expected=0.228638\n",
      "predicted=0.223088, expected=0.594103\n",
      "predicted=0.592417, expected=0.175535\n",
      "predicted=0.169551, expected=0.510522\n",
      "predicted=0.508017, expected=0.645939\n",
      "ARIMA(0, 1, 0) MAPE=115.634\n",
      "predicted=0.518835, expected=0.747969\n",
      "predicted=0.531589, expected=0.116326\n",
      "predicted=0.521345, expected=0.228638\n",
      "predicted=0.508506, expected=0.594103\n",
      "predicted=0.508709, expected=0.175535\n",
      "predicted=0.499652, expected=0.510522\n",
      "predicted=0.496971, expected=0.645939\n",
      "ARIMA(0, 1, 1) MAPE=103.443\n",
      "predicted=0.374538, expected=0.747969\n",
      "predicted=0.493146, expected=0.116326\n",
      "predicted=0.480710, expected=0.228638\n",
      "predicted=0.473637, expected=0.594103\n",
      "predicted=0.492303, expected=0.175535\n",
      "predicted=0.510425, expected=0.510522\n",
      "predicted=0.529492, expected=0.645939\n",
      "ARIMA(5, 0, 0) MAPE=97.541\n",
      "predicted=0.348336, expected=0.747969\n",
      "predicted=0.416760, expected=0.116326\n",
      "predicted=0.463124, expected=0.228638\n",
      "predicted=0.457233, expected=0.594103\n",
      "predicted=0.436601, expected=0.175535\n",
      "predicted=0.442206, expected=0.510522\n",
      "predicted=0.439997, expected=0.645939\n",
      "ARIMA(5, 0, 1) MAPE=88.718\n",
      "predicted=0.344427, expected=0.747969\n",
      "predicted=0.496180, expected=0.116326\n"
     ]
    },
    {
     "name": "stderr",
     "output_type": "stream",
     "text": [
      "c:\\users\\surabhi\\env3\\lib\\site-packages\\statsmodels\\base\\model.py:492: HessianInversionWarning: Inverting hessian failed, no bse or cov_params available\n",
      "  'available', HessianInversionWarning)\n"
     ]
    },
    {
     "name": "stdout",
     "output_type": "stream",
     "text": [
      "predicted=0.430088, expected=0.228638\n"
     ]
    },
    {
     "name": "stderr",
     "output_type": "stream",
     "text": [
      "c:\\users\\surabhi\\env3\\lib\\site-packages\\statsmodels\\base\\model.py:492: HessianInversionWarning: Inverting hessian failed, no bse or cov_params available\n",
      "  'available', HessianInversionWarning)\n"
     ]
    },
    {
     "name": "stdout",
     "output_type": "stream",
     "text": [
      "predicted=0.433978, expected=0.594103\n"
     ]
    },
    {
     "name": "stderr",
     "output_type": "stream",
     "text": [
      "c:\\users\\surabhi\\env3\\lib\\site-packages\\statsmodels\\base\\model.py:492: HessianInversionWarning: Inverting hessian failed, no bse or cov_params available\n",
      "  'available', HessianInversionWarning)\n"
     ]
    },
    {
     "name": "stdout",
     "output_type": "stream",
     "text": [
      "predicted=0.433096, expected=0.175535\n"
     ]
    },
    {
     "name": "stderr",
     "output_type": "stream",
     "text": [
      "c:\\users\\surabhi\\env3\\lib\\site-packages\\statsmodels\\base\\model.py:492: HessianInversionWarning: Inverting hessian failed, no bse or cov_params available\n",
      "  'available', HessianInversionWarning)\n"
     ]
    },
    {
     "name": "stdout",
     "output_type": "stream",
     "text": [
      "predicted=0.477557, expected=0.510522\n"
     ]
    },
    {
     "name": "stderr",
     "output_type": "stream",
     "text": [
      "c:\\users\\surabhi\\env3\\lib\\site-packages\\statsmodels\\base\\model.py:492: HessianInversionWarning: Inverting hessian failed, no bse or cov_params available\n",
      "  'available', HessianInversionWarning)\n",
      "c:\\users\\surabhi\\env3\\lib\\site-packages\\statsmodels\\base\\model.py:512: ConvergenceWarning: Maximum Likelihood optimization failed to converge. Check mle_retvals\n",
      "  \"Check mle_retvals\", ConvergenceWarning)\n"
     ]
    },
    {
     "name": "stdout",
     "output_type": "stream",
     "text": [
      "predicted=0.462971, expected=0.645939\n",
      "ARIMA(5, 0, 2) MAPE=90.552\n"
     ]
    },
    {
     "name": "stderr",
     "output_type": "stream",
     "text": [
      "c:\\users\\surabhi\\env3\\lib\\site-packages\\statsmodels\\base\\model.py:492: HessianInversionWarning: Inverting hessian failed, no bse or cov_params available\n",
      "  'available', HessianInversionWarning)\n"
     ]
    },
    {
     "name": "stdout",
     "output_type": "stream",
     "text": [
      "predicted=0.477622, expected=0.747969\n"
     ]
    },
    {
     "name": "stderr",
     "output_type": "stream",
     "text": [
      "c:\\users\\surabhi\\env3\\lib\\site-packages\\statsmodels\\base\\model.py:492: HessianInversionWarning: Inverting hessian failed, no bse or cov_params available\n",
      "  'available', HessianInversionWarning)\n"
     ]
    },
    {
     "name": "stdout",
     "output_type": "stream",
     "text": [
      "predicted=0.513250, expected=0.116326\n"
     ]
    },
    {
     "name": "stderr",
     "output_type": "stream",
     "text": [
      "c:\\users\\surabhi\\env3\\lib\\site-packages\\statsmodels\\base\\model.py:492: HessianInversionWarning: Inverting hessian failed, no bse or cov_params available\n",
      "  'available', HessianInversionWarning)\n"
     ]
    },
    {
     "name": "stdout",
     "output_type": "stream",
     "text": [
      "predicted=0.574542, expected=0.228638\n"
     ]
    },
    {
     "name": "stderr",
     "output_type": "stream",
     "text": [
      "c:\\users\\surabhi\\env3\\lib\\site-packages\\statsmodels\\base\\model.py:492: HessianInversionWarning: Inverting hessian failed, no bse or cov_params available\n",
      "  'available', HessianInversionWarning)\n"
     ]
    },
    {
     "name": "stdout",
     "output_type": "stream",
     "text": [
      "predicted=0.549477, expected=0.594103\n",
      "predicted=0.492206, expected=0.175535\n"
     ]
    },
    {
     "name": "stderr",
     "output_type": "stream",
     "text": [
      "c:\\users\\surabhi\\env3\\lib\\site-packages\\statsmodels\\base\\model.py:492: HessianInversionWarning: Inverting hessian failed, no bse or cov_params available\n",
      "  'available', HessianInversionWarning)\n"
     ]
    },
    {
     "name": "stdout",
     "output_type": "stream",
     "text": [
      "predicted=0.520353, expected=0.510522\n"
     ]
    },
    {
     "name": "stderr",
     "output_type": "stream",
     "text": [
      "c:\\users\\surabhi\\env3\\lib\\site-packages\\statsmodels\\base\\model.py:492: HessianInversionWarning: Inverting hessian failed, no bse or cov_params available\n",
      "  'available', HessianInversionWarning)\n"
     ]
    },
    {
     "name": "stdout",
     "output_type": "stream",
     "text": [
      "predicted=0.497819, expected=0.645939\n",
      "ARIMA(5, 0, 3) MAPE=105.028\n"
     ]
    },
    {
     "name": "stderr",
     "output_type": "stream",
     "text": [
      "c:\\users\\surabhi\\env3\\lib\\site-packages\\statsmodels\\base\\model.py:492: HessianInversionWarning: Inverting hessian failed, no bse or cov_params available\n",
      "  'available', HessianInversionWarning)\n"
     ]
    },
    {
     "name": "stdout",
     "output_type": "stream",
     "text": [
      "predicted=0.464552, expected=0.747969\n"
     ]
    },
    {
     "name": "stderr",
     "output_type": "stream",
     "text": [
      "c:\\users\\surabhi\\env3\\lib\\site-packages\\statsmodels\\base\\model.py:492: HessianInversionWarning: Inverting hessian failed, no bse or cov_params available\n",
      "  'available', HessianInversionWarning)\n",
      "c:\\users\\surabhi\\env3\\lib\\site-packages\\statsmodels\\base\\model.py:512: ConvergenceWarning: Maximum Likelihood optimization failed to converge. Check mle_retvals\n",
      "  \"Check mle_retvals\", ConvergenceWarning)\n"
     ]
    },
    {
     "name": "stdout",
     "output_type": "stream",
     "text": [
      "predicted=0.488772, expected=0.116326\n"
     ]
    },
    {
     "name": "stderr",
     "output_type": "stream",
     "text": [
      "c:\\users\\surabhi\\env3\\lib\\site-packages\\statsmodels\\base\\model.py:492: HessianInversionWarning: Inverting hessian failed, no bse or cov_params available\n",
      "  'available', HessianInversionWarning)\n"
     ]
    },
    {
     "name": "stdout",
     "output_type": "stream",
     "text": [
      "predicted=0.542138, expected=0.228638\n"
     ]
    },
    {
     "name": "stderr",
     "output_type": "stream",
     "text": [
      "c:\\users\\surabhi\\env3\\lib\\site-packages\\statsmodels\\base\\model.py:492: HessianInversionWarning: Inverting hessian failed, no bse or cov_params available\n",
      "  'available', HessianInversionWarning)\n",
      "c:\\users\\surabhi\\env3\\lib\\site-packages\\statsmodels\\base\\model.py:512: ConvergenceWarning: Maximum Likelihood optimization failed to converge. Check mle_retvals\n",
      "  \"Check mle_retvals\", ConvergenceWarning)\n"
     ]
    },
    {
     "name": "stdout",
     "output_type": "stream",
     "text": [
      "predicted=0.566185, expected=0.594103\n"
     ]
    },
    {
     "name": "stderr",
     "output_type": "stream",
     "text": [
      "c:\\users\\surabhi\\env3\\lib\\site-packages\\statsmodels\\base\\model.py:492: HessianInversionWarning: Inverting hessian failed, no bse or cov_params available\n",
      "  'available', HessianInversionWarning)\n",
      "c:\\users\\surabhi\\env3\\lib\\site-packages\\statsmodels\\base\\model.py:512: ConvergenceWarning: Maximum Likelihood optimization failed to converge. Check mle_retvals\n",
      "  \"Check mle_retvals\", ConvergenceWarning)\n"
     ]
    },
    {
     "name": "stdout",
     "output_type": "stream",
     "text": [
      "predicted=0.510720, expected=0.175535\n"
     ]
    },
    {
     "name": "stderr",
     "output_type": "stream",
     "text": [
      "c:\\users\\surabhi\\env3\\lib\\site-packages\\statsmodels\\base\\model.py:492: HessianInversionWarning: Inverting hessian failed, no bse or cov_params available\n",
      "  'available', HessianInversionWarning)\n",
      "c:\\users\\surabhi\\env3\\lib\\site-packages\\statsmodels\\base\\model.py:512: ConvergenceWarning: Maximum Likelihood optimization failed to converge. Check mle_retvals\n",
      "  \"Check mle_retvals\", ConvergenceWarning)\n"
     ]
    },
    {
     "name": "stdout",
     "output_type": "stream",
     "text": [
      "predicted=0.564629, expected=0.510522\n"
     ]
    },
    {
     "name": "stderr",
     "output_type": "stream",
     "text": [
      "c:\\users\\surabhi\\env3\\lib\\site-packages\\statsmodels\\base\\model.py:492: HessianInversionWarning: Inverting hessian failed, no bse or cov_params available\n",
      "  'available', HessianInversionWarning)\n",
      "c:\\users\\surabhi\\env3\\lib\\site-packages\\statsmodels\\base\\model.py:512: ConvergenceWarning: Maximum Likelihood optimization failed to converge. Check mle_retvals\n",
      "  \"Check mle_retvals\", ConvergenceWarning)\n"
     ]
    },
    {
     "name": "stdout",
     "output_type": "stream",
     "text": [
      "predicted=0.537914, expected=0.645939\n",
      "ARIMA(5, 0, 4) MAPE=106.685\n",
      "predicted=0.579189, expected=0.747969\n",
      "predicted=0.714416, expected=0.116326\n",
      "predicted=0.687962, expected=0.228638\n",
      "predicted=0.631437, expected=0.594103\n",
      "predicted=0.586203, expected=0.175535\n",
      "predicted=0.403975, expected=0.510522\n",
      "predicted=0.351123, expected=0.645939\n",
      "ARIMA(5, 1, 0) MAPE=119.852\n",
      "predicted=0.409518, expected=0.747969\n",
      "predicted=0.536542, expected=0.116326\n",
      "predicted=0.526825, expected=0.228638\n",
      "predicted=0.506326, expected=0.594103\n",
      "predicted=0.519789, expected=0.175535\n",
      "predicted=0.523294, expected=0.510522\n",
      "predicted=0.536843, expected=0.645939\n",
      "ARIMA(5, 1, 1) MAPE=103.190\n"
     ]
    },
    {
     "name": "stderr",
     "output_type": "stream",
     "text": [
      "c:\\users\\surabhi\\env3\\lib\\site-packages\\statsmodels\\base\\model.py:492: HessianInversionWarning: Inverting hessian failed, no bse or cov_params available\n",
      "  'available', HessianInversionWarning)\n",
      "c:\\users\\surabhi\\env3\\lib\\site-packages\\statsmodels\\base\\model.py:512: ConvergenceWarning: Maximum Likelihood optimization failed to converge. Check mle_retvals\n",
      "  \"Check mle_retvals\", ConvergenceWarning)\n"
     ]
    },
    {
     "name": "stdout",
     "output_type": "stream",
     "text": [
      "predicted=0.437028, expected=0.747969\n"
     ]
    },
    {
     "name": "stderr",
     "output_type": "stream",
     "text": [
      "c:\\users\\surabhi\\env3\\lib\\site-packages\\statsmodels\\base\\model.py:492: HessianInversionWarning: Inverting hessian failed, no bse or cov_params available\n",
      "  'available', HessianInversionWarning)\n"
     ]
    },
    {
     "name": "stdout",
     "output_type": "stream",
     "text": [
      "predicted=0.556432, expected=0.116326\n"
     ]
    },
    {
     "name": "stderr",
     "output_type": "stream",
     "text": [
      "c:\\users\\surabhi\\env3\\lib\\site-packages\\statsmodels\\base\\model.py:492: HessianInversionWarning: Inverting hessian failed, no bse or cov_params available\n",
      "  'available', HessianInversionWarning)\n",
      "c:\\users\\surabhi\\env3\\lib\\site-packages\\statsmodels\\base\\model.py:512: ConvergenceWarning: Maximum Likelihood optimization failed to converge. Check mle_retvals\n",
      "  \"Check mle_retvals\", ConvergenceWarning)\n"
     ]
    },
    {
     "name": "stdout",
     "output_type": "stream",
     "text": [
      "predicted=0.580341, expected=0.228638\n"
     ]
    },
    {
     "name": "stderr",
     "output_type": "stream",
     "text": [
      "c:\\users\\surabhi\\env3\\lib\\site-packages\\statsmodels\\base\\model.py:492: HessianInversionWarning: Inverting hessian failed, no bse or cov_params available\n",
      "  'available', HessianInversionWarning)\n"
     ]
    },
    {
     "name": "stdout",
     "output_type": "stream",
     "text": [
      "predicted=0.536197, expected=0.594103\n"
     ]
    },
    {
     "name": "stderr",
     "output_type": "stream",
     "text": [
      "c:\\users\\surabhi\\env3\\lib\\site-packages\\statsmodels\\base\\model.py:492: HessianInversionWarning: Inverting hessian failed, no bse or cov_params available\n",
      "  'available', HessianInversionWarning)\n"
     ]
    },
    {
     "name": "stdout",
     "output_type": "stream",
     "text": [
      "predicted=0.505603, expected=0.175535\n"
     ]
    },
    {
     "name": "stderr",
     "output_type": "stream",
     "text": [
      "c:\\users\\surabhi\\env3\\lib\\site-packages\\statsmodels\\base\\model.py:492: HessianInversionWarning: Inverting hessian failed, no bse or cov_params available\n",
      "  'available', HessianInversionWarning)\n"
     ]
    },
    {
     "name": "stdout",
     "output_type": "stream",
     "text": [
      "predicted=0.523232, expected=0.510522\n",
      "predicted=0.502618, expected=0.645939\n",
      "ARIMA(5, 1, 2) MAPE=105.737\n"
     ]
    },
    {
     "name": "stderr",
     "output_type": "stream",
     "text": [
      "c:\\users\\surabhi\\env3\\lib\\site-packages\\statsmodels\\base\\model.py:492: HessianInversionWarning: Inverting hessian failed, no bse or cov_params available\n",
      "  'available', HessianInversionWarning)\n"
     ]
    },
    {
     "data": {
      "text/plain": [
       "(5, 0, 1)"
      ]
     },
     "execution_count": 8,
     "metadata": {},
     "output_type": "execute_result"
    }
   ],
   "source": [
    "d = np.random.rand(100)\n",
    "evaluate_models_test(d)"
   ]
  },
  {
   "cell_type": "code",
   "execution_count": 9,
   "metadata": {},
   "outputs": [
    {
     "data": {
      "image/png": "[encoded data removed]",
      "text/plain": [
       "<Figure size 432x288 with 1 Axes>"
      ]
     },
     "metadata": {
      "needs_background": "light"
     },
     "output_type": "display_data"
    },
    {
     "data": {
      "image/png": "[encoded data removed]",
      "text/plain": [
       "<Figure size 432x288 with 1 Axes>"
      ]
     },
     "metadata": {
      "needs_background": "light"
     },
     "output_type": "display_data"
    }
   ],
   "source": [
    "plot_acf(d, ax=pyplot.gca())\n",
    "pyplot.show()\n",
    "plot_pacf(d, ax=pyplot.gca())\n",
    "pyplot.show()"
   ]
  },
  {
   "cell_type": "code",
   "execution_count": null,
   "metadata": {},
   "outputs": [],
   "source": []
  }
 ],
 "metadata": {
  "kernelspec": {
   "display_name": "Python 3",
   "language": "python",
   "name": "python3"
  },
  "language_info": {
   "codemirror_mode": {
    "name": "ipython",
    "version": 3
   },
   "file_extension": ".py",
   "mimetype": "text/x-python",
   "name": "python",
   "nbconvert_exporter": "python",
   "pygments_lexer": "ipython3",
   "version": "3.7.4"
  }
 },
 "nbformat": 4,
 "nbformat_minor": 2
}
